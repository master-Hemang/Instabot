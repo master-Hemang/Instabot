{
 "cells": [
  {
   "cell_type": "code",
   "execution_count": 1,
   "id": "e0f00bad",
   "metadata": {},
   "outputs": [],
   "source": [
    "from selenium import webdriver\n",
    "from selenium.webdriver.chrome.service import Service\n",
    "from selenium.webdriver.common.by import By\n",
    "from selenium.webdriver.support import expected_conditions as EC\n",
    "from selenium.webdriver.support.ui import WebDriverWait\n",
    "from bs4 import BeautifulSoup\n",
    "import time"
   ]
  },
  {
   "cell_type": "code",
   "execution_count": 2,
   "id": "daf13074",
   "metadata": {},
   "outputs": [],
   "source": [
    "driver = webdriver.Chrome(service = Service(executable_path = '/chromedriver_win32/chromedriver'))\n",
    "driver.maximize_window()\n",
    "wait = WebDriverWait(driver, 10)"
   ]
  },
  {
   "cell_type": "markdown",
   "id": "45cf1db0",
   "metadata": {},
   "source": [
    "**Q1.** Login to your Instagram Handle."
   ]
  },
  {
   "cell_type": "code",
   "execution_count": 3,
   "id": "86fe64d6",
   "metadata": {},
   "outputs": [],
   "source": [
    "driver.get('https://www.instagram.com/')\n",
    "\n",
    "username = wait.until(EC.presence_of_element_located((By.NAME, 'username')))\n",
    "username.clear()\n",
    "username.send_keys('username')\n",
    "\n",
    "password = wait.until(EC.presence_of_element_located((By.NAME, 'password')))\n",
    "password.clear()\n",
    "password.send_keys('password')\n",
    "\n",
    "password.submit()\n",
    "time.sleep(5)"
   ]
  },
  {
   "cell_type": "markdown",
   "id": "389e97d4",
   "metadata": {},
   "source": [
    "**Q2.** Type for \"food\" in search bar and print all the names of the Instagram Handles that are displayed in list after typing \"food\"."
   ]
  },
  {
   "cell_type": "code",
   "execution_count": 4,
   "id": "14c3c90c",
   "metadata": {},
   "outputs": [
    {
     "name": "stdout",
     "output_type": "stream",
     "text": [
      "SEARCH RESULTS FOR \"food\" :\n",
      "---------------------------\n",
      "foodtalkindia\n",
      "jamshedpurfoodieduo\n",
      "foodrooaster\n",
      "_food_prints\n",
      "foodie_girl_vivu\n",
      "foodpictorial_\n",
      "food\n",
      "ek_jharkhandwala\n",
      "dilsefoodie\n",
      "foodie_incarnate\n",
      "foodie_mona_\n",
      "fivefeet_foodiee\n",
      "benetan74\n",
      "foodiewe_01\n",
      "germany.explores\n",
      "miami.explorers\n",
      "foodo__mania\n",
      "food.lovers_corner\n",
      "infusion.foodbooks\n",
      "iamafoodie.in\n",
      "foodie_jharkhand\n",
      "foodiee_bib\n",
      "fatgirlkitchenchronicle\n",
      "qiuyourfood\n",
      "_foodies_station_\n",
      "thailand.explores\n",
      "foodnationranchi\n",
      "home_chef15\n",
      "foodgully35\n",
      "foodie_kanya_ranchi\n",
      "foodlovestory_03\n",
      "food_castaway_inn\n",
      "foodnconnect\n",
      "villagefoodchannel_official\n",
      "sarafoodism\n",
      "bokarotalent\n",
      "epicurean_tastes\n",
      "foodie_ashish_hazaribagh\n",
      "foodsplannet\n",
      "17shades_of_food\n",
      "foodie.yaar\n",
      "traveleatwithnavneet\n",
      "foodie_shuru\n",
      "foodoorieee\n",
      "in_mood_of_food\n",
      "southkorea.explores\n",
      "bluetribeofficial\n",
      "food.vybe\n",
      "foodporn\n",
      "taste_of_fomo\n"
     ]
    }
   ],
   "source": [
    "try:\n",
    "    driver.find_element(By.CLASS_NAME, '_aaw6')\n",
    "except:\n",
    "    search_btn = wait.until(EC.presence_of_all_elements_located((By.XPATH, '//a[@class = \"x1i10hfl xjbqb8w x6umtig x1b1mbwd xaqea5y xav7gou x9f619 x1ypdohk xt0psk2 xe8uvvx xdj266r x11i5rnm xat24cr x1mh8g0r xexx8yu x4uap5 x18d9i69 xkhd6sd x16tdsg8 x1hl2dhg xggy1nq x1a2a7pz _a6hd\"]')))[2]\n",
    "    search_btn.click()\n",
    "\n",
    "search_textbox = wait.until(EC.presence_of_element_located((By.TAG_NAME, 'input')))\n",
    "search_textbox.clear()\n",
    "search_textbox.send_keys('food')\n",
    "\n",
    "print('SEARCH RESULTS FOR \"food\" :')\n",
    "print('---------------------------')\n",
    "handles = wait.until(EC.presence_of_all_elements_located((By.XPATH, '//span[@class = \"x193iq5w xeuugli x1fj9vlw x13faqbe x1vvkbs xt0psk2 x1i0vuye xvs91rp x1s688f x5n08af x10wh9bi x1wdrske x8viiok x18hxmgj\"]')))\n",
    "for h in handles:\n",
    "    print(h.get_attribute('innerHTML'))"
   ]
  },
  {
   "cell_type": "markdown",
   "id": "d33bd4b2",
   "metadata": {},
   "source": [
    "**Q3.** Searching and Opening profile of \"So Delhi\"."
   ]
  },
  {
   "cell_type": "code",
   "execution_count": 5,
   "id": "49a13ddb",
   "metadata": {},
   "outputs": [],
   "source": [
    "def search_profile(username):\n",
    "    search_btn = wait.until(EC.presence_of_all_elements_located((By.XPATH, '//a[@class = \"x1i10hfl xjbqb8w x6umtig x1b1mbwd xaqea5y xav7gou x9f619 x1ypdohk xt0psk2 xe8uvvx xdj266r x11i5rnm xat24cr x1mh8g0r xexx8yu x4uap5 x18d9i69 xkhd6sd x16tdsg8 x1hl2dhg xggy1nq x1a2a7pz _a6hd\"]')))[2]\n",
    "    \n",
    "    try:\n",
    "        driver.find_element(By.CLASS_NAME, '_aaw6')\n",
    "    except:\n",
    "        search_btn.click()\n",
    "\n",
    "    search_textbox = wait.until(EC.presence_of_element_located((By.TAG_NAME, 'input')))\n",
    "    search_textbox.clear()\n",
    "    search_textbox.send_keys(username)\n",
    "    time.sleep(3)\n",
    "\n",
    "    top_profile = wait.until(EC.presence_of_element_located((By.XPATH, '//span[@class = \"x193iq5w xeuugli x1fj9vlw x13faqbe x1vvkbs xt0psk2 x1i0vuye xvs91rp x1s688f x5n08af x10wh9bi x1wdrske x8viiok x18hxmgj\"]')))\n",
    "    top_profile.click()\n",
    "    search_btn.click()\n",
    "\n",
    "    time.sleep(3)\n",
    "\n",
    "    title = wait.until(EC.presence_of_element_located((By.TAG_NAME, 'h2'))).get_attribute('innerHTML')\n",
    "    print('OPENED PROFILE OF \"{}\"\\n'.format(title))\n",
    "    \n",
    "    return title"
   ]
  },
  {
   "cell_type": "code",
   "execution_count": 6,
   "id": "2cdd7a53",
   "metadata": {},
   "outputs": [
    {
     "name": "stdout",
     "output_type": "stream",
     "text": [
      "OPENED PROFILE OF \"sodelhi\"\n",
      "\n"
     ]
    }
   ],
   "source": [
    "title = search_profile('So Delhi')"
   ]
  },
  {
   "cell_type": "markdown",
   "id": "059a7a8c",
   "metadata": {},
   "source": [
    "**Q4.1** Open the Instagram Handle of \"So Delhi\"."
   ]
  },
  {
   "cell_type": "code",
   "execution_count": 7,
   "id": "85695b96",
   "metadata": {},
   "outputs": [
    {
     "name": "stdout",
     "output_type": "stream",
     "text": [
      "OPENED PROFILE OF \"sodelhi\"\n",
      "\n"
     ]
    }
   ],
   "source": [
    "title = search_profile('So Delhi')"
   ]
  },
  {
   "cell_type": "markdown",
   "id": "b8dee455",
   "metadata": {},
   "source": [
    "**Q4.2** Start following it. Print a message if you are already following."
   ]
  },
  {
   "cell_type": "code",
   "execution_count": 8,
   "id": "ca2e2a46",
   "metadata": {},
   "outputs": [
    {
     "name": "stdout",
     "output_type": "stream",
     "text": [
      "NOW YOU HAVE STARTED FOLLOWING \"sodelhi\"\n"
     ]
    }
   ],
   "source": [
    "follow_btn = wait.until(EC.presence_of_element_located((By.XPATH, '//div[@class = \"x9f619 xjbqb8w x78zum5 x168nmei x13lgxp2 x5pf9jr xo71vjh x1i64zmx x1n2onr6 x1plvlek xryxfnj x1iyjqo2 x2lwn1j xeuugli xdt5ytf xqjyukv x1qjc9v5 x1oa3qoh x1nhvcw1\"]')))\n",
    "if(follow_btn.text == 'Follow'):\n",
    "    follow_btn.click()\n",
    "    print('NOW YOU HAVE STARTED FOLLOWING \"{}\"'.format(title))\n",
    "else:\n",
    "    print('YOU ARE ALREADY FOLLOWING \"{}\"'.format(title))"
   ]
  },
  {
   "cell_type": "markdown",
   "id": "558a55b4",
   "metadata": {},
   "source": [
    "**Q4.3** After following, unfollow the instagram handle. Print a message if you have already unfollowed."
   ]
  },
  {
   "cell_type": "code",
   "execution_count": 9,
   "id": "1813b3f6",
   "metadata": {},
   "outputs": [
    {
     "name": "stdout",
     "output_type": "stream",
     "text": [
      "YOU ARE ALREADY NOT FOLLOWING \"sodelhi\"\n"
     ]
    }
   ],
   "source": [
    "follow_btn = wait.until(EC.presence_of_element_located((By.XPATH, '//div[@class = \"x9f619 xjbqb8w x78zum5 x168nmei x13lgxp2 x5pf9jr xo71vjh x1i64zmx x1n2onr6 x1plvlek xryxfnj x1iyjqo2 x2lwn1j xeuugli xdt5ytf xqjyukv x1qjc9v5 x1oa3qoh x1nhvcw1\"]')))\n",
    "if(follow_btn.text == 'Follow'):\n",
    "    print('YOU ARE ALREADY NOT FOLLOWING \"{}\"'.format(title))\n",
    "else:\n",
    "    follow_btn.click()\n",
    "    diag_box = wait.until(EC.presence_of_element_located((By.XPATH, '//div[@class = \"x1ja2u2z x1afcbsf x1a2a7pz x6ikm8r x10wlt62 x71s49j x78zum5 xdt5ytf x1n2onr6 xl56j7k x6s0dn4\"]')))\n",
    "    time.sleep(3)\n",
    "    unfollow_btn = diag_box.find_elements(By.XPATH, '//div[@class = \"x1i10hfl x1qjc9v5 xjbqb8w xjqpnuy xa49m3k xqeqjp1 x2hbi6w x13fuv20 xu3j5b3 x1q0q8m5 x26u7qi x972fbf xcfux6l x1qhh985 xm0m39n x9f619 x1ypdohk xdl72j9 x2lah0s xe8uvvx xdj266r x11i5rnm xat24cr x1mh8g0r x2lwn1j xeuugli xexx8yu x4uap5 x18d9i69 xkhd6sd x1n2onr6 x16tdsg8 x1hl2dhg xggy1nq x1ja2u2z x1t137rt x1q0g3np x87ps6o x1lku1pv x1a2a7pz xh8yej3 x193iq5w x1lliihq x1dm5mii x16mil14 xiojian x1yutycm\"]')[-1]\n",
    "    unfollow_btn.click()\n",
    "    print('NOW YOU HAVE UNFOLLOWED \"{}\"'.format(title))"
   ]
  },
  {
   "cell_type": "markdown",
   "id": "990204a8",
   "metadata": {},
   "source": [
    "**Q5.1** Liking the top 30 posts of the ‘dilsefoodie'. Print message if you have already liked it."
   ]
  },
  {
   "cell_type": "code",
   "execution_count": 10,
   "id": "4fbe47bf",
   "metadata": {},
   "outputs": [
    {
     "name": "stdout",
     "output_type": "stream",
     "text": [
      "OPENED PROFILE OF \"dilsefoodie\"\n",
      "\n",
      "Post 1 : Liked\n",
      "Post 2 : Liked\n",
      "Post 3 : Liked\n",
      "Post 4 : Liked\n",
      "Post 5 : Liked\n",
      "Post 6 : Liked\n",
      "Post 7 : Liked\n",
      "Post 8 : Liked\n",
      "Post 9 : Liked\n",
      "Post 10 : Liked\n",
      "Post 11 : Liked\n",
      "Post 12 : Liked\n",
      "Post 13 : Liked\n",
      "Post 14 : Liked\n",
      "Post 15 : Liked\n",
      "Post 16 : Liked\n",
      "Post 17 : Liked\n",
      "Post 18 : Liked\n",
      "Post 19 : Liked\n",
      "Post 20 : Liked\n",
      "Post 21 : Liked\n",
      "Post 22 : Liked\n",
      "Post 23 : Liked\n",
      "Post 24 : Liked\n",
      "Post 25 : Liked\n",
      "Post 26 : Liked\n",
      "Post 27 : Liked\n",
      "Post 28 : Liked\n",
      "Post 29 : Liked\n",
      "Post 30 : Liked\n",
      "\n",
      "TOP 30 POSTS LIKED.\n"
     ]
    }
   ],
   "source": [
    "title = search_profile('dilsefoodie')\n",
    "\n",
    "post = wait.until(EC.presence_of_element_located((By.XPATH, '//div[@class = \"_aabd _aa8k  _al3l\"]')))\n",
    "post.click()\n",
    "\n",
    "post_num = 1\n",
    "while(post_num <= 30):\n",
    "    like_btn = wait.until(EC.presence_of_element_located((By.XPATH,'//article//section[@class=\"_aamu _ae3_ _ae47 _ae48\"]/span/button')))\n",
    "    btn_text = BeautifulSoup(like_btn.get_attribute('innerHTML'),'html.parser').find('svg').get('aria-label')\n",
    "    if (btn_text == 'Unlike'):\n",
    "        print('Post {} : Already Liked'.format(post_num))\n",
    "    else:\n",
    "        print('Post {} : Liked'.format(post_num))\n",
    "        like_btn.click()\n",
    "    \n",
    "    next_btn = wait.until(EC.presence_of_element_located((By.XPATH,'//div[@class=\" _aaqg _aaqh\"]')))\n",
    "    next_btn.click()\n",
    "    #time.sleep(.1)\n",
    "    \n",
    "    post_num += 1\n",
    "\n",
    "driver.back()\n",
    "print('\\nTOP 30 POSTS LIKED.')"
   ]
  },
  {
   "cell_type": "markdown",
   "id": "5a7beec6",
   "metadata": {},
   "source": [
    "**Q5.2** Unliking the top 30 posts of the ‘dilsefoodie’. Print message if you have already unliked it."
   ]
  },
  {
   "cell_type": "code",
   "execution_count": 11,
   "id": "2fe5449a",
   "metadata": {},
   "outputs": [
    {
     "name": "stdout",
     "output_type": "stream",
     "text": [
      "OPENED PROFILE OF \"dilsefoodie\"\n",
      "\n",
      "Post 1 : Unliked\n",
      "Post 2 : Unliked\n",
      "Post 3 : Unliked\n",
      "Post 4 : Unliked\n",
      "Post 5 : Unliked\n",
      "Post 6 : Unliked\n",
      "Post 7 : Unliked\n",
      "Post 8 : Unliked\n",
      "Post 9 : Unliked\n",
      "Post 10 : Unliked\n",
      "Post 11 : Unliked\n",
      "Post 12 : Unliked\n",
      "Post 13 : Unliked\n",
      "Post 14 : Unliked\n",
      "Post 15 : Unliked\n",
      "Post 16 : Unliked\n",
      "Post 17 : Unliked\n",
      "Post 18 : Unliked\n",
      "Post 19 : Unliked\n",
      "Post 20 : Unliked\n",
      "Post 21 : Unliked\n",
      "Post 22 : Unliked\n",
      "Post 23 : Unliked\n",
      "Post 24 : Unliked\n",
      "Post 25 : Unliked\n",
      "Post 26 : Unliked\n",
      "Post 27 : Unliked\n",
      "Post 28 : Unliked\n",
      "Post 29 : Unliked\n",
      "Post 30 : Unliked\n",
      "\n",
      "TOP 30 POSTS UNLIKED.\n"
     ]
    }
   ],
   "source": [
    "title = search_profile('dilsefoodie')\n",
    "\n",
    "post = wait.until(EC.presence_of_element_located((By.XPATH, '//div[@class = \"_aabd _aa8k  _al3l\"]')))\n",
    "post.click()\n",
    "\n",
    "post_num = 1\n",
    "while(post_num <= 30):\n",
    "    like_btn = wait.until(EC.presence_of_element_located((By.XPATH,'//article//section[@class=\"_aamu _ae3_ _ae47 _ae48\"]/span/button')))\n",
    "    btn_type = BeautifulSoup(like_btn.get_attribute('innerHTML'),'html.parser').find('svg').get('aria-label')\n",
    "    if (btn_type == 'Like'):\n",
    "        print('Post {} : Already Unliked'.format(post_num))\n",
    "    else:\n",
    "        print('Post {} : Unliked'.format(post_num))\n",
    "        like_btn.click()\n",
    "    \n",
    "    next_btn = wait.until(EC.presence_of_element_located((By.XPATH,'//div[@class=\" _aaqg _aaqh\"]')))\n",
    "    next_btn.click()\n",
    "    #time.sleep(.1)\n",
    "    \n",
    "    post_num += 1\n",
    "\n",
    "driver.back()\n",
    "print('\\nTOP 30 POSTS UNLIKED.')"
   ]
  },
  {
   "cell_type": "markdown",
   "id": "6bd2c01c",
   "metadata": {},
   "source": [
    "**Q6.1** Extract the usernames of the first 500 followers of \"foodtalkindia\" and \"sodelhi\"."
   ]
  },
  {
   "cell_type": "code",
   "execution_count": 12,
   "id": "e6e66daf",
   "metadata": {},
   "outputs": [
    {
     "name": "stdout",
     "output_type": "stream",
     "text": [
      "OPENED PROFILE OF \"sodelhi\"\n",
      "\n",
      "LOADING PROFILES : 12->12->24->24->36->48->60->72->72->84->96->96->108->120->132->132->144->156->168->180->192->204->215->227->239->251->263->275->287->299->311->323->335->347->359->371->383->383->394->406->418->418->430->442->448->466->478->490->502\n",
      "\n",
      "NUMBER OF PROFILES FOUND : 500\n",
      "['priyanshusharma.0001', 'aparna.murthy.35', 'nick_is_nitin', 'connexion1.30', 'bhumikachawla79', 'simply.ssara', 'mittal.chitraksh30', 'chauhan_ishant14', 'surbhiarora127', 'akshat18._', 'md_sonu5896', 'tyagireyansh', 'bhawna_goyal__', 'leena_badgujar', '_harshita.07_', 'priyankamalik_19', 'iamnishantrajeev', '_ayushisingh_02', 'travelbackagain', 'chauhan__megha', 'manshu_pvtt07', '_maittrix_', 'av_aawara09', 'shivam.vastava', 'ologin282', 'goel_shweta_04', 'professional_swati_82', 'lamba.swati', 'rohanbhandari213', 'ya.shi2725', 'myra_malt', 'lotusfirefly29', '_.s.a.u.m.y.a._', 'ravi.singh077', 'harshcineworld', 'abhi_nav1207', 'raj__sharma.7', 'yash__ydv__003', 'raiyansiddiquii', 'nik.aggarwal10', '_yashveer__', 'cherryy_agarwal', 'mangirulz', 'shokeenharshika', 'parveshbhatti_8', '_as_i_travel_', '_.chhavi_._', 'harshitgupta0509', 'kartiks.ig', 'luvya_0014', 'akshita_1411', 'shivangieeeeee', 'khushisingh4854', 'woshakhs_', 'pronobghosh', '__mori.arty', 'wnd_2209', 'himanshudevgan', 'oy_sumit', 'vishujaiz', 'a_girl__has_no_name_', 'rubysharma_19', 'moon._.soul', 'sneha.gupta777', 'naman.garg005', 'nimo848cn_art', 'sakshi.g1288', '_neerajkumar_suriyavanshi', 'bestofdelhii', 'kunall132004', 'rea_nah', 'hdghsjsnsn', 'senapati.smruti09', 'ritu.priya1209', 'thesarcasticnari', 'sanchit_gadling', 'ajinkya.gite.jain', 'keshavpaji80', 'mukulraipure', 'asmitanandy', 'vishwkarmavicky', 'iam_mohitkumar_', 'notavinashanand', 'i.aartichaudhary', 'uniqueness.prachi', 'vrittit', 'akanilsapre', 'capoojasharma', 'anukritverma', 'anaghacreation7236', 'meghaethnics', 'nandkumar_arjune_18.14', 'ankitrathor362', 'mann_kaur_1208', 'sagarrana.2', 'prerna321', 'rtanishka21', 'lovingmylife.n.me', 'bath_fittings_by_dk', 'vny_jsh', 'manya_suneja10', 'sandhya1311_', 'bansacommunitylibrary', 'fly2sky25', 'guglaniruchi', 'shumaila_99', 'arv.fr', 'avi5815', 'shivangiiiagarwal', '_muskan_mahendru', '_avnidhiman_', '_shreyashkumar', 'thenameisritish', 'anny_luv_coolgirl', '_meenakshiyadavvv', '_.yashii_._', 'aadi.k77775', 'akshu.sharma1994', 'anshi_makeovers', 'navtej.singh.9693', 'mann_thekings', 'keshav_mehta_23', 'kr_arvind_', 'itskrshivam', 'jyoti_g_official', 'priyanka.pal_', 'nidh.isingh0032', 'thegynecologistdoc', 'ridhima.thakur_', '__infinity__vibess', 'karthik_easvur', 'sugandhachandra', 'attul_a', 'aman_sharma241', 'munjal_geetika', 'skushank19', 'richakohli', 'yashpandey1206', 'kaashiisshh', 'its.mantashastic', 'bliss_guide', 'mokshijain', 'imanishmidha', 'sej.sek', 'premamehra22', 'motu0219', 'impulsivesonu', 'chawla.sabh', 'dharampreetsingh_01', '_guru.23', 'srinivasdonthinagabhushan', 'urvi__gupta', 'ansh.g_42', 'nitishjha1811', '__san__ket__', 'priyanka10py', 'creative__things11', 'kapadia_09', 'alishasalman', 'ankitttkumarrr', 'bharti_0521', 'lost_someone99', 'bhartirawat1610', 'sakxham.pvt', 'ronak.gupta29', 'sachit911', 'maahichauhan00', 'rosmin.reji', 'vicky_kashyap_jii', 'saloni11_k', 'h_e_n_o_t_i_c_', 'aishwarya13feb', 'offical_sakshi19', 'bhavya_bhasin04', 'imsaif_7', 'the_mishrajii____', 'myselfisha98', 'khushi.ghushi', 'xxselenophilex', 'shivendra_pratap_singh__', 'miss_super_giggles_she_is', 'abhayy.sonii', 'mostlyinsane_07', 'sahiba0301', 'rietumonga', '_aashu_6_', 'socialmedia_567', 't__usharbishambu', 'rodricks_yevgeny', '_vishal8679', 'akskhoks7', 'iti_sethi', 'aashisoo7', 'paramtanwar2511', 'last_rider29', 'anjurajput121', 'khyatialuna', '_pooja_ramani_', 'kawya_20', 'prish_1624', 'singhdivya_30', 'hites_rana_', 'mirgan_saab', 'jagritiyadhuvanshi_93', 'aryanisha1345', 'kanojia2248', 'priiiiyanshiiii', 'crabzzzzy', 'harshaldeora', 'tanvi__mehtaa', 'voguechess', 'manojsom2', 'bhawna_258', 'newuserdelhi1245', 'drizzzzy11', 'icy_crystal_', 'shwetachaudhary04', 'hey__itz_ailkumar', 'ritesh2307', 'verma.muskan2910', '2023year2024', 'khane.mein.kya.hai', 'aasthagupta__', 'rishi_x0_0x', 'shubham_sharma_4042', 'vinodsoni_v', 'maaz._hashmi', 'nishtha_chugh', 'lilxstack', 'naina_kanjani', 'in_sanev90', 'antara028', 'anand.ashita', 'induabhishektyagi', 'waee_mon', 'sandraantony77', 'rajat_vaid', 'vipink147', 'kyu.tanmay', 'ajitpriy_', 'khushi.babbar', 'maybeyours143', 'hiokaybye08', 'pixxel_diaries', 'mahi_jain7', 'dr.neha_rupawat', 'ambika_makhija95', 'a.n.s.h.i.k.a_s', 'dimpy._.jain_', 'nachatar.kaur', 'lalita_635', 'majidchoudhary73', 'isinghz_official', '_anjalipadhi_', 'savar_w', 'prateek.adlakha', 'sakshi7546', 'life_of_arathy', 'ordinarybharatiya', 'khushiisachdeva', '_vanshikak_', 'yellowchillighy', '_anushkaaa44', 'cuteimi', 'junaiidkhalid', 'hold_on_insta', 'annie.gupta.75', 'mittalishika20', 'riteshpandey0304', '_meenal', 'vishalbhadana001', 'prakashdipanshu21', 'its_ringmaikha_', 'mohid_art_creation', 'ayushyajnik', 'fiza_bikz', 'karishmachettri2007', 'hashmeet_singh_', 'simmi11dec', 'mynktg', 'p.a_g294lxzt', 'sahilpatpatia', 'vaibhavshrm45', 'artiawasthi_', 'shreyahaha__', 'the_sachin__vashist', 'harshvibhanshu', 'yogeshsaini1137', 'oldschool_inspiration', 'akash_narayan1435', 'sneha_r.singh', 'kady2525', '_.udayyyy._', 'mansaa.a', 'tejasbishnu14', 'priyabarjatyad', 'villagerking0320', 'tan_may2025', 'mr_aman_chef__lucknow', 'qhadhi', 'pandit_pranshudubey', 'chaitanya0501', 'thrishaaa22', 'mayank.sanket', 'shirin_sabharwal', '207_delhi_wala09', 'sneha.raheja', 'namarta.shr', '_.pandiiiii', 'its_shubh1029', 'tishamadaan06', 'thomassheetal', 'irispoo', 'simran_pvt_013', 'srishtiiii.jainn', 'stansieshubhi', 'amalzaheer', 'gaurav7538singh', 'kaun.kabir', 'its_nitesh__thakur', 'mahiii.bhardwaj', 'the_roshan_jha', '03.jashann', 'sumitbsc09', 'kabuliiwala', 'shawarmahouse.in', 'maniyaa.don', 'nishhhhhhhh768', 'abhishekbatra.20', 'mohit.arora93', 'upasna.singh49', 'vaishaliv.03', 'vikas_2496', 'the_funiyaare_official', 'dilshadjameel543', 'raichiii._', 'susanto_mandal', 'shilpi8194', 'v._i._n._i._t', 'hridhyanshu_', 'vanimesh76', '__megha15__', 'riyasindhani07', 'gupta.tushar', 'aditi_bhadana_', 'yashgupta_024', 'gunjanarora_7', 'meetanshyyy', 'kamilrza6897', 'japneet.pvt_', 'thoi.wangkheimayum', 'esachink21', 'drishtii_23', '_.aadi_mathur._', '_.akku_xx_a._', 'self__less1', 'anshikaa_vij', 'sweetytola', '__.garimaaaa', 'manojarora858', '1_cr7x', 'shaily_sharma22', 'grumpy.moon.goddess_', 'chitra_rawat_', 'capturewvanz', 'hiyaa_2006', '__khannasahab__', 'mr.singhal022', '_vishwas_malik', 'linusuhas', 'aarav3147', 'sonalisingh____', 'nirnaygodlaw', 'abhi989904', '_virgoshivani_', 'supernavy111', 'prateek__14_', 'jacck_man', 'gurleennkaurr08', 'thegurmatt5', 'negi.manisha99', 'suyashgupta_1995', 'swatiyxdxv', 'nayaralka', 'universal_runners_marathon_', 'dev_yadav_k', 'susimathews', 'digitalchitwan', 'dearrprince', 'ashmit.vx', '_saloniii_2003', 'rainaarora_05', 'tejutyagi333', 'sahilbenjamin17', 'anishkhitolia_1927', 'kumarsiddhant6021', 'meh_lil_space', 'imposter6828', 'anahitaamagan', '_arrpxn_', 'reyna_aena', 'kharshit27', '_sanjanaa.23', 'sanyamagg1', 'ddarlingdragon_', 'muskaankarora', 'pankaj_choudhary_jajod', 'pradeep.prady', 'tanu_aasiwal.17', 'desai_2708', 'veer_praise', 'arshadsafif', 'y.sapna96', 'jasnoorrr', '__maliiaa_', 'aditya.arora.54584', 'm.himanshu27', 'rahulgupta____', 'rubaniarora_05', 'kuldeepking92', 'akanksha_sweet28', 'neharanwa_', 'yogita_mishraa', 'aanyxarora', 'shria_kapoor', 'jinelle_kay', 'rashiaggarwall', 'varshavrajput', 'varshavr_27', 'dk_23188', 'prateek.aggarwal.714', 'sxnyx_', 'chitrakshichadha', 'indoliarenu', 'vanshjaintu', 'amaksh_0312', '_chauhan_2411', 'sapna0223', 'gaukarandwa', 'preetiydv.1507', 'vij_divya', 'rohanmittal95', 'respectable_gupta_ji_143', 'akshay_m.k', 'rish_garg14', 'itz.hema.07', 'katrinasoffline', 'ardent_reader03', 'gold.ee_', 'swatiaggarwal1800', 'tvskiran', 'parminder0.1', 'its_me_priyabohra', 'mr.verma.30', 'vidhu.med', 'beautyadorebykhushi', 'aishwarya032', 'abhishek_sachdeva17', 'niharikaa_malik_', 'vijayingle658', 'garv.se.baniyaa', 'pretentious.name.here', 'enu_enu__', 'muskangondyan', 'adventurelover.hemant', 'idhruvjoshi_', 'm_paliwal2999', '____triptiii____', '_arjunn____', 'shubham_kushawar', 'anirban619', 'ssakshammm', '__saumya.singh_', 'nisha_chauahan', 'weirdo23___', 'aakanksha_tejwani', 'k_a_j_a_l_010', 'itsarpantiwari', 'theuntold.story29', 'sanjaymendiratta1', 'prasanjeetdeb', 'sui_taanka', '_anshbhati_', 'raysayak', 'priyanka_0726', 'goel_sahb', 'wildxight', 'ishaan______01', 'its_smsanjay0505', 'dipti.patel_105', 'akshat_pasricha', 'gauravthapa2023', 'sanjana_irukulla', 'dncbu', 'princejain2508', 'sukh_chainsinghh', '_akankshab', 'vishalsinghvlme', 'blunt_sugar', '_manveen_kaurr']\n"
     ]
    }
   ],
   "source": [
    "# FOLLOWERS OF \"So Delhi\"\n",
    "title = search_profile('So Delhi')\n",
    "\n",
    "followers_btn = driver.find_element(By.PARTIAL_LINK_TEXT, 'follower')\n",
    "followers_btn.click()\n",
    "wait.until(EC.presence_of_element_located((By.XPATH, '//div[@class=\"_aano\"]')))\n",
    "\n",
    "break_count = 0\n",
    "num = len(driver.find_elements(By.XPATH, '//div[@class=\"x1i10hfl x1qjc9v5 xjbqb8w xjqpnuy xa49m3k xqeqjp1 x2hbi6w x13fuv20 xu3j5b3 x1q0q8m5 x26u7qi x972fbf xcfux6l x1qhh985 xm0m39n x9f619 x1ypdohk xdl72j9 x2lah0s xe8uvvx xdj266r x11i5rnm xat24cr x1mh8g0r x2lwn1j xeuugli xexx8yu x4uap5 x18d9i69 xkhd6sd x1n2onr6 x16tdsg8 x1hl2dhg xggy1nq x1ja2u2z x1t137rt x1q0g3np x87ps6o x1lku1pv x1a2a7pz xh8yej3 x193iq5w x1lliihq x1dm5mii x16mil14 xiojian x1yutycm\"]'))\n",
    "current_height = driver.execute_script('return document.querySelector(\"._aano\").scrollHeight;')\n",
    "print('LOADING PROFILES : ', end='')\n",
    "while(break_count < 5 and num < 500):\n",
    "    if (current_height - driver.execute_script('return document.querySelector(\"._aano\").scrollHeight;') == 0):\n",
    "        break_count += 1\n",
    "    else:\n",
    "        break_count = 0\n",
    "        print(num, end='->')        \n",
    "\n",
    "    current_height = driver.execute_script('return document.querySelector(\"._aano\").scrollHeight;')\n",
    "    driver.execute_script('document.querySelector(\"._aano\").scrollTo(0,arguments[0]);', current_height)\n",
    "    time.sleep(1)\n",
    "    num = len(driver.find_elements(By.XPATH, '//div[@class=\"x1i10hfl x1qjc9v5 xjbqb8w xjqpnuy xa49m3k xqeqjp1 x2hbi6w x13fuv20 xu3j5b3 x1q0q8m5 x26u7qi x972fbf xcfux6l x1qhh985 xm0m39n x9f619 x1ypdohk xdl72j9 x2lah0s xe8uvvx xdj266r x11i5rnm xat24cr x1mh8g0r x2lwn1j xeuugli xexx8yu x4uap5 x18d9i69 xkhd6sd x1n2onr6 x16tdsg8 x1hl2dhg xggy1nq x1ja2u2z x1t137rt x1q0g3np x87ps6o x1lku1pv x1a2a7pz xh8yej3 x193iq5w x1lliihq x1dm5mii x16mil14 xiojian x1yutycm\"]'))\n",
    "print(num)\n",
    "\n",
    "top500 = driver.find_elements(By.XPATH, '//div[@class=\"x1i10hfl x1qjc9v5 xjbqb8w xjqpnuy xa49m3k xqeqjp1 x2hbi6w x13fuv20 xu3j5b3 x1q0q8m5 x26u7qi x972fbf xcfux6l x1qhh985 xm0m39n x9f619 x1ypdohk xdl72j9 x2lah0s xe8uvvx xdj266r x11i5rnm xat24cr x1mh8g0r x2lwn1j xeuugli xexx8yu x4uap5 x18d9i69 xkhd6sd x1n2onr6 x16tdsg8 x1hl2dhg xggy1nq x1ja2u2z x1t137rt x1q0g3np x87ps6o x1lku1pv x1a2a7pz xh8yej3 x193iq5w x1lliihq x1dm5mii x16mil14 xiojian x1yutycm\"]')[:500]\n",
    "\n",
    "sodelhi_followers = []\n",
    "for user in top500:\n",
    "    html = BeautifulSoup(user.get_attribute('outerHTML'), 'html.parser')\n",
    "    sodelhi_followers.append(html.find_all('span')[-2].text)\n",
    "\n",
    "driver.back()\n",
    "print('\\nNUMBER OF PROFILES FOUND : {}'.format(len(sodelhi_followers)))\n",
    "print(sodelhi_followers)"
   ]
  },
  {
   "cell_type": "code",
   "execution_count": 13,
   "id": "589eccad",
   "metadata": {},
   "outputs": [
    {
     "name": "stdout",
     "output_type": "stream",
     "text": [
      "OPENED PROFILE OF \"foodtalkindia\"\n",
      "\n",
      "LOADING PROFILES : 49->49\n",
      "\n",
      "--- MESSAGE : \"foodtalkindia\" IS NOT ALLOWING TO SEE ALL FOLLOWERS. ---\n",
      "\n",
      "NUMBER OF PROFILES FOUND : 49\n",
      "['tvmovie2023', 'uhhditya', 'ajmakvana8200', 'amrjeetsingh835', 'anil_mishra07', 'ashishkaushik_world', 'ashish_emd', 'audwin.han.otori', 'manifesting_happinessss', 'fardeen123623', 'bahl.geeta', 'iinaya280', 'kabirgsharma', 'karunaaggarwal77', 'hsirk_sid', 'suranaa____', 'pooja_99786', 'chef_mohd.shahid', 'navneet__ag', 'nishthamishra0612', 'donda__pratik', '_parulsingh__', 'priyankakomari24', 'rahulmodiindia', 'ranjanapandey400', 'kirancalls', 'rishiguideindia', 'saurabh_kala85', 'shimolii_patel', 'chef_shubhamgavali', 'flawsome_mamma', 'shwetaa_singhal', 'stylish_saraz', 'sonidivya2001', 'sudikshakashyap', 'sumerakhan257', 'sumi.tt0703', 'sumit.arora2002', 'upadhyaykitchen55', 'ved_pratap', 'iamvinayahuja', 'weird_boxer', 'thecadetofsoul', 'syed.azra.3591', 'singhanchal', 'takashi.yasu.jordan', 'tarunparmar07', 'jaypanday.__', 'shailesh.purke']\n"
     ]
    }
   ],
   "source": [
    "# FOLLOWERS OF \"foodtalkindia\"\n",
    "title = search_profile('foodtalkindia')\n",
    "\n",
    "followers_btn = driver.find_element(By.PARTIAL_LINK_TEXT, 'follower')\n",
    "followers_btn.click()\n",
    "wait.until(EC.presence_of_element_located((By.XPATH, '//div[@class=\"_aano\"]')))\n",
    "\n",
    "break_count = 0\n",
    "num = len(driver.find_elements(By.XPATH, '//div[@class=\"x1i10hfl x1qjc9v5 xjbqb8w xjqpnuy xa49m3k xqeqjp1 x2hbi6w x13fuv20 xu3j5b3 x1q0q8m5 x26u7qi x972fbf xcfux6l x1qhh985 xm0m39n x9f619 x1ypdohk xdl72j9 x2lah0s xe8uvvx xdj266r x11i5rnm xat24cr x1mh8g0r x2lwn1j xeuugli xexx8yu x4uap5 x18d9i69 xkhd6sd x1n2onr6 x16tdsg8 x1hl2dhg xggy1nq x1ja2u2z x1t137rt x1q0g3np x87ps6o x1lku1pv x1a2a7pz xh8yej3 x193iq5w x1lliihq x1dm5mii x16mil14 xiojian x1yutycm\"]'))\n",
    "current_height = driver.execute_script('return document.querySelector(\"._aano\").scrollHeight;')\n",
    "print('LOADING PROFILES : ', end='')\n",
    "while(break_count < 5 and num < 500):\n",
    "    if (current_height - driver.execute_script('return document.querySelector(\"._aano\").scrollHeight;') == 0):\n",
    "        break_count += 1\n",
    "    else:\n",
    "        break_count = 0\n",
    "        print(num, end='->')        \n",
    "\n",
    "    current_height = driver.execute_script('return document.querySelector(\"._aano\").scrollHeight;')\n",
    "    driver.execute_script('document.querySelector(\"._aano\").scrollTo(0,arguments[0]);', current_height)\n",
    "    time.sleep(1)\n",
    "    num = len(driver.find_elements(By.XPATH, '//div[@class=\"x1i10hfl x1qjc9v5 xjbqb8w xjqpnuy xa49m3k xqeqjp1 x2hbi6w x13fuv20 xu3j5b3 x1q0q8m5 x26u7qi x972fbf xcfux6l x1qhh985 xm0m39n x9f619 x1ypdohk xdl72j9 x2lah0s xe8uvvx xdj266r x11i5rnm xat24cr x1mh8g0r x2lwn1j xeuugli xexx8yu x4uap5 x18d9i69 xkhd6sd x1n2onr6 x16tdsg8 x1hl2dhg xggy1nq x1ja2u2z x1t137rt x1q0g3np x87ps6o x1lku1pv x1a2a7pz xh8yej3 x193iq5w x1lliihq x1dm5mii x16mil14 xiojian x1yutycm\"]'))\n",
    "print(num)\n",
    "\n",
    "if num < 500:\n",
    "    print('\\n--- MESSAGE : \"{}\" IS NOT ALLOWING TO SEE ALL FOLLOWERS. ---'.format(title))\n",
    "\n",
    "top500 = driver.find_elements(By.XPATH, '//div[@class=\"x1i10hfl x1qjc9v5 xjbqb8w xjqpnuy xa49m3k xqeqjp1 x2hbi6w x13fuv20 xu3j5b3 x1q0q8m5 x26u7qi x972fbf xcfux6l x1qhh985 xm0m39n x9f619 x1ypdohk xdl72j9 x2lah0s xe8uvvx xdj266r x11i5rnm xat24cr x1mh8g0r x2lwn1j xeuugli xexx8yu x4uap5 x18d9i69 xkhd6sd x1n2onr6 x16tdsg8 x1hl2dhg xggy1nq x1ja2u2z x1t137rt x1q0g3np x87ps6o x1lku1pv x1a2a7pz xh8yej3 x193iq5w x1lliihq x1dm5mii x16mil14 xiojian x1yutycm\"]')[:500]\n",
    "\n",
    "foodtalkindia_followers = []\n",
    "for user in top500:\n",
    "    html = BeautifulSoup(user.get_attribute('outerHTML'), 'html.parser')\n",
    "    foodtalkindia_followers.append(html.find_all('span')[-2].text)\n",
    "\n",
    "driver.back()\n",
    "print('\\nNUMBER OF PROFILES FOUND : {}'.format(len(foodtalkindia_followers)))\n",
    "print(foodtalkindia_followers)"
   ]
  },
  {
   "cell_type": "markdown",
   "id": "cf51aea7",
   "metadata": {},
   "source": [
    "**Q6.2** Now print all the followers of \"foodtalkindia\" that you are following but those who don't follow you."
   ]
  },
  {
   "cell_type": "code",
   "execution_count": 14,
   "id": "1737a8ae",
   "metadata": {},
   "outputs": [
    {
     "name": "stdout",
     "output_type": "stream",
     "text": [
      "OPENED PROFILE OF \"priyanshusharma.0001\"\n",
      "\n",
      "LOADING PROFILES : 1->31->31\n",
      "\n",
      "NUMBER OF PROFILES FOUND : 31\n",
      "['sssakshi__', 'Sakshi Sharma', 'Nancy Charan', 'Students Insights', 'iitismconfessions21', 'kanak_official', 'zareen khan', 'jogi._.jaat', 'Ankita ✨', '', 'Jisa', 'anshika', 'Ascetus', 'Aditi', 'The Fitness Terrain', 'Bakchod Baba', 'Edge Studios', '', 'Rapper_of_ISM', 'Art.Ankeshwari', 'offcial_Abhishek_Raj', 'AnuDagar', 'Saurav Raj', '❣️Goswami❣️', '', 'Ꭾίץนʂђ_ℜคj✨', 'Shubham Kumar', 'Anas_raja-+_0067', '', 'Aadi🍁', '`Aℝτ_ℓov𝕖ℝ']\n"
     ]
    }
   ],
   "source": [
    "# MY FOLLOWERS\n",
    "title = search_profile('priyanshusharma.0001')\n",
    "\n",
    "followers_btn = driver.find_element(By.PARTIAL_LINK_TEXT, 'follower')\n",
    "followers_btn.click()\n",
    "wait.until(EC.presence_of_element_located((By.XPATH, '//div[@class=\"_aano\"]')))\n",
    "\n",
    "break_count = 0\n",
    "num = len(driver.find_elements(By.XPATH, '//div[@class=\"x1i10hfl x1qjc9v5 xjbqb8w xjqpnuy xa49m3k xqeqjp1 x2hbi6w x13fuv20 xu3j5b3 x1q0q8m5 x26u7qi x972fbf xcfux6l x1qhh985 xm0m39n x9f619 x1ypdohk xdl72j9 x2lah0s xe8uvvx xdj266r x11i5rnm xat24cr x1mh8g0r x2lwn1j xeuugli xexx8yu x4uap5 x18d9i69 xkhd6sd x1n2onr6 x16tdsg8 x1hl2dhg xggy1nq x1ja2u2z x1t137rt x1q0g3np x87ps6o x1lku1pv x1a2a7pz xh8yej3 x193iq5w x1lliihq x1dm5mii x16mil14 xiojian x1yutycm\"]'))\n",
    "current_height = driver.execute_script('return document.querySelector(\"._aano\").scrollHeight;')\n",
    "print('LOADING PROFILES : ', end='')\n",
    "while(break_count < 5 and num < 500):\n",
    "    if (current_height - driver.execute_script('return document.querySelector(\"._aano\").scrollHeight;') == 0):\n",
    "        break_count += 1\n",
    "    else:\n",
    "        break_count = 0\n",
    "        print(num, end='->')        \n",
    "\n",
    "    current_height = driver.execute_script('return document.querySelector(\"._aano\").scrollHeight;')\n",
    "    driver.execute_script('document.querySelector(\"._aano\").scrollTo(0,arguments[0]);', current_height)\n",
    "    time.sleep(1)\n",
    "    num = len(driver.find_elements(By.XPATH, '//div[@class=\"x1i10hfl x1qjc9v5 xjbqb8w xjqpnuy xa49m3k xqeqjp1 x2hbi6w x13fuv20 xu3j5b3 x1q0q8m5 x26u7qi x972fbf xcfux6l x1qhh985 xm0m39n x9f619 x1ypdohk xdl72j9 x2lah0s xe8uvvx xdj266r x11i5rnm xat24cr x1mh8g0r x2lwn1j xeuugli xexx8yu x4uap5 x18d9i69 xkhd6sd x1n2onr6 x16tdsg8 x1hl2dhg xggy1nq x1ja2u2z x1t137rt x1q0g3np x87ps6o x1lku1pv x1a2a7pz xh8yej3 x193iq5w x1lliihq x1dm5mii x16mil14 xiojian x1yutycm\"]'))\n",
    "print(num)\n",
    "\n",
    "top500 = driver.find_elements(By.XPATH, '//div[@class=\"x1i10hfl x1qjc9v5 xjbqb8w xjqpnuy xa49m3k xqeqjp1 x2hbi6w x13fuv20 xu3j5b3 x1q0q8m5 x26u7qi x972fbf xcfux6l x1qhh985 xm0m39n x9f619 x1ypdohk xdl72j9 x2lah0s xe8uvvx xdj266r x11i5rnm xat24cr x1mh8g0r x2lwn1j xeuugli xexx8yu x4uap5 x18d9i69 xkhd6sd x1n2onr6 x16tdsg8 x1hl2dhg xggy1nq x1ja2u2z x1t137rt x1q0g3np x87ps6o x1lku1pv x1a2a7pz xh8yej3 x193iq5w x1lliihq x1dm5mii x16mil14 xiojian x1yutycm\"]')[:500]\n",
    "\n",
    "my_followers = []\n",
    "for user in top500:\n",
    "    html = BeautifulSoup(user.get_attribute('outerHTML'), 'html.parser')\n",
    "    my_followers.append(html.find_all('span')[-2].text)\n",
    "\n",
    "driver.back()\n",
    "print('\\nNUMBER OF PROFILES FOUND : {}'.format(len(my_followers)))\n",
    "print(my_followers)"
   ]
  },
  {
   "cell_type": "code",
   "execution_count": 15,
   "id": "61cbcb71",
   "metadata": {},
   "outputs": [
    {
     "name": "stdout",
     "output_type": "stream",
     "text": [
      "OPENED PROFILE OF \"priyanshusharma.0001\"\n",
      "\n",
      "LOADING PROFILES : 12->24->36->36->36->41->41\n",
      "\n",
      "NUMBER OF PROFILES FOUND : 41\n",
      "['sssakshi__', 'chims_0690', 'nvcti.iitism', 'bookclub.iit_ism', 'mechismuracing', 'ecell_iitism', 'kalpitam.iitism', 'rupeshsakhmohan', 'placeupacademy', 'iitism_dhanbad_memes', 'robo__ism', 'cyberlabs_iitism', 'art._freaks', 'hackfestiitism', 'concetto.iitism', 'srijaniitism', 'iit.ism', 'iitismmemes', 'md_iit_dhanbad', 'manthan_iitdhn', 'fotofreaks_iitism', 'chayanikaism', 'gamesgossip.in', 'tharki.soch_', 'sarcastic__lovee', 'Verified', 'codes.learning', 'du.today', '_.chutiyapa._', 'adultcharger', 'entrepreneurshipquote', 'python.hub', 'manifesting_happinessss', 'sodelhi', 'rishiguideindia', 'stylish_saraz', 'chef_mohd.shahid', 'vansharora.29', 'toyyab_is_old_account', 'ajmakvana8200', 'amrjeetsingh835']\n"
     ]
    }
   ],
   "source": [
    "# MY FOLLOWING\n",
    "title = search_profile('priyanshusharma.0001')\n",
    "\n",
    "following_btn = driver.find_element(By.PARTIAL_LINK_TEXT, 'following')\n",
    "following_btn.click()\n",
    "wait.until(EC.presence_of_element_located((By.XPATH, '//div[@class=\"_aano\"]')))\n",
    "\n",
    "break_count = 0\n",
    "num = len(driver.find_elements(By.XPATH, '//div[@class=\"x1i10hfl x1qjc9v5 xjbqb8w xjqpnuy xa49m3k xqeqjp1 x2hbi6w x13fuv20 xu3j5b3 x1q0q8m5 x26u7qi x972fbf xcfux6l x1qhh985 xm0m39n x9f619 x1ypdohk xdl72j9 x2lah0s xe8uvvx xdj266r x11i5rnm xat24cr x1mh8g0r x2lwn1j xeuugli xexx8yu x4uap5 x18d9i69 xkhd6sd x1n2onr6 x16tdsg8 x1hl2dhg xggy1nq x1ja2u2z x1t137rt x1q0g3np x87ps6o x1lku1pv x1a2a7pz xh8yej3 x193iq5w x1lliihq x1dm5mii x16mil14 xiojian x1yutycm\"]'))\n",
    "current_height = driver.execute_script('return document.querySelector(\"._aano\").scrollHeight;')\n",
    "print('LOADING PROFILES : ', end='')\n",
    "while(break_count < 5 and num < 500):\n",
    "    if (current_height - driver.execute_script('return document.querySelector(\"._aano\").scrollHeight;') == 0):\n",
    "        break_count += 1\n",
    "    else:\n",
    "        break_count = 0\n",
    "        print(num, end='->')        \n",
    "\n",
    "    current_height = driver.execute_script('return document.querySelector(\"._aano\").scrollHeight;')\n",
    "    driver.execute_script('document.querySelector(\"._aano\").scrollTo(0,arguments[0]);', current_height)\n",
    "    time.sleep(1)\n",
    "    num = len(driver.find_elements(By.XPATH, '//div[@class=\"x1i10hfl x1qjc9v5 xjbqb8w xjqpnuy xa49m3k xqeqjp1 x2hbi6w x13fuv20 xu3j5b3 x1q0q8m5 x26u7qi x972fbf xcfux6l x1qhh985 xm0m39n x9f619 x1ypdohk xdl72j9 x2lah0s xe8uvvx xdj266r x11i5rnm xat24cr x1mh8g0r x2lwn1j xeuugli xexx8yu x4uap5 x18d9i69 xkhd6sd x1n2onr6 x16tdsg8 x1hl2dhg xggy1nq x1ja2u2z x1t137rt x1q0g3np x87ps6o x1lku1pv x1a2a7pz xh8yej3 x193iq5w x1lliihq x1dm5mii x16mil14 xiojian x1yutycm\"]'))\n",
    "print(num)\n",
    "\n",
    "top500 = driver.find_elements(By.XPATH, '//div[@class=\"x1i10hfl x1qjc9v5 xjbqb8w xjqpnuy xa49m3k xqeqjp1 x2hbi6w x13fuv20 xu3j5b3 x1q0q8m5 x26u7qi x972fbf xcfux6l x1qhh985 xm0m39n x9f619 x1ypdohk xdl72j9 x2lah0s xe8uvvx xdj266r x11i5rnm xat24cr x1mh8g0r x2lwn1j xeuugli xexx8yu x4uap5 x18d9i69 xkhd6sd x1n2onr6 x16tdsg8 x1hl2dhg xggy1nq x1ja2u2z x1t137rt x1q0g3np x87ps6o x1lku1pv x1a2a7pz xh8yej3 x193iq5w x1lliihq x1dm5mii x16mil14 xiojian x1yutycm\"]')[:500]\n",
    "\n",
    "my_following = []\n",
    "for user in top500:\n",
    "    html = BeautifulSoup(user.get_attribute('outerHTML'), 'html.parser')\n",
    "    my_following.append(html.find_all('span')[-2].text)\n",
    "\n",
    "driver.back()\n",
    "print('\\nNUMBER OF PROFILES FOUND : {}'.format(len(my_following)))\n",
    "print(my_following)"
   ]
  },
  {
   "cell_type": "code",
   "execution_count": 16,
   "id": "cf52c655",
   "metadata": {},
   "outputs": [
    {
     "name": "stdout",
     "output_type": "stream",
     "text": [
      "NUMBER OF SUCH USERS : 6\n",
      "['manifesting_happinessss', 'rishiguideindia', 'stylish_saraz', 'chef_mohd.shahid', 'ajmakvana8200', 'amrjeetsingh835']\n"
     ]
    }
   ],
   "source": [
    "common = [val for val in my_following if val in foodtalkindia_followers]\n",
    "target_users = [val for val in common if val not in my_followers]\n",
    "\n",
    "print('NUMBER OF SUCH USERS : {}'.format(len(target_users)))\n",
    "print(target_users)"
   ]
  },
  {
   "cell_type": "markdown",
   "id": "00fe303c",
   "metadata": {},
   "source": [
    "**Q7.** Check the story of ‘coding.ninjas’. Consider the following Scenarios and print error messages accordingly -\n",
    "If You have already seen the story.\n",
    "Or The user has no story.\n",
    "Or View the story if not yet seen."
   ]
  },
  {
   "cell_type": "code",
   "execution_count": 17,
   "id": "3eb0f329",
   "metadata": {
    "scrolled": false
   },
   "outputs": [
    {
     "name": "stdout",
     "output_type": "stream",
     "text": [
      "OPENED PROFILE OF \"coding.ninjas\"\n",
      "\n",
      "YOU HAVE ALREADY SEEN THE STORY.\n"
     ]
    }
   ],
   "source": [
    "try:\n",
    "    driver.find_element(By.CLASS_NAME, '_aaw6')\n",
    "except:\n",
    "    search_btn = wait.until(EC.presence_of_all_elements_located((By.XPATH, '//a[@class = \"x1i10hfl xjbqb8w x6umtig x1b1mbwd xaqea5y xav7gou x9f619 x1ypdohk xt0psk2 xe8uvvx xdj266r x11i5rnm xat24cr x1mh8g0r xexx8yu x4uap5 x18d9i69 xkhd6sd x16tdsg8 x1hl2dhg xggy1nq x1a2a7pz _a6hd\"]')))[2]\n",
    "    search_btn.click()\n",
    "\n",
    "search_textbox = wait.until(EC.presence_of_element_located((By.TAG_NAME, 'input')))\n",
    "search_textbox.clear()\n",
    "search_textbox.send_keys('coding.ninjas')\n",
    "time.sleep(3)\n",
    "\n",
    "top_profile = wait.until(EC.presence_of_element_located((By.XPATH, '//span[@class = \"x193iq5w xeuugli x1fj9vlw x13faqbe x1vvkbs xt0psk2 x1i0vuye xvs91rp x1s688f x5n08af x10wh9bi x1wdrske x8viiok x18hxmgj\"]')))\n",
    "top_profile.click()\n",
    "search_btn.click()\n",
    "\n",
    "time.sleep(3)\n",
    "\n",
    "title = driver.find_element(By.TAG_NAME, 'h2').get_attribute('innerHTML')\n",
    "print('OPENED PROFILE OF \"{}\"\\n'.format(title))\n",
    "\n",
    "try:\n",
    "    if driver.find_element(By.XPATH, '//div[@class=\"_aarf _aarg\"]/canvas').get_attribute('height')=='210':\n",
    "        print('YOU HAVE NOT SEEN THE STORY YET! PLAYING THE STORY.')\n",
    "        driver.find_element(By.XPATH, '//div[@class=\"_aarf _aarg\"]').click()\n",
    "    elif driver.find_element(By.XPATH,'//div[@class=\"_aarf _aarg\"]/canvas').get_attribute('height')=='208':\n",
    "        print('YOU HAVE ALREADY SEEN THE STORY.')\n",
    "except:\n",
    "    print('THE USER HAS NO STORY!')"
   ]
  }
 ],
 "metadata": {
  "kernelspec": {
   "display_name": "Python 3 (ipykernel)",
   "language": "python",
   "name": "python3"
  },
  "language_info": {
   "codemirror_mode": {
    "name": "ipython",
    "version": 3
   },
   "file_extension": ".py",
   "mimetype": "text/x-python",
   "name": "python",
   "nbconvert_exporter": "python",
   "pygments_lexer": "ipython3",
   "version": "3.10.6"
  }
 },
 "nbformat": 4,
 "nbformat_minor": 5
}
